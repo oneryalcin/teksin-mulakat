{
 "cells": [
  {
   "cell_type": "markdown",
   "id": "7b20bf50",
   "metadata": {},
   "source": [
    "## 1. Arjantin bolgeleri Sosyoekonomik Analizi\n",
    "<p><img style=\"float: left;margin:5px 20px 5px 1px\" src=\"https://upload.wikimedia.org/wikipedia/commons/thumb/d/d9/Buenos_Aires_Puerto_Madero_19.jpg/1200px-Buenos_Aires_Puerto_Madero_19.jpg\" title=\"Photo by Andrzej Otrębski CC BY-SA 4.0\"></p>\n",
    "\n",
    "\n",
    "Arjantin 23 bolge ve otonom sehir olan Buenos Airesten olusmaktadir. Bu bolgelere ait 10 cesit ekonomik ve sosyal gosteregelere bakacagiz. \n",
    "\n",
    "Bulacagimiz sosyoekonomik sonuclar, kaynaklarin altyapi, egitim vs gibi daha etkin bicimde dagitilmasi ve bu sayede de yardim alanlarin en fazla faydayi gormesi saglamsi acisindan onemlidir.  "
   ]
  },
  {
   "cell_type": "markdown",
   "id": "c97c85ff",
   "metadata": {},
   "source": [
    "### Gorevler\n",
    "Asagida `...` ile belirtilen yere gerekli R kodunu yaziniz"
   ]
  },
  {
   "cell_type": "code",
   "execution_count": 1,
   "id": "42351f1f",
   "metadata": {},
   "outputs": [
    {
     "name": "stderr",
     "output_type": "stream",
     "text": [
      "── \u001b[1mAttaching packages\u001b[22m ─────────────────────────────────────── tidyverse 1.3.1 ──\n",
      "\n",
      "\u001b[32m✔\u001b[39m \u001b[34mggplot2\u001b[39m 3.3.5     \u001b[32m✔\u001b[39m \u001b[34mpurrr  \u001b[39m 0.3.4\n",
      "\u001b[32m✔\u001b[39m \u001b[34mtibble \u001b[39m 3.1.6     \u001b[32m✔\u001b[39m \u001b[34mdplyr  \u001b[39m 1.0.7\n",
      "\u001b[32m✔\u001b[39m \u001b[34mtidyr  \u001b[39m 1.1.4     \u001b[32m✔\u001b[39m \u001b[34mstringr\u001b[39m 1.4.0\n",
      "\u001b[32m✔\u001b[39m \u001b[34mreadr  \u001b[39m 2.1.1     \u001b[32m✔\u001b[39m \u001b[34mforcats\u001b[39m 0.5.1\n",
      "\n",
      "── \u001b[1mConflicts\u001b[22m ────────────────────────────────────────── tidyverse_conflicts() ──\n",
      "\u001b[31m✖\u001b[39m \u001b[34mdplyr\u001b[39m::\u001b[32mfilter()\u001b[39m masks \u001b[34mstats\u001b[39m::filter()\n",
      "\u001b[31m✖\u001b[39m \u001b[34mdplyr\u001b[39m::\u001b[32mlag()\u001b[39m    masks \u001b[34mstats\u001b[39m::lag()\n",
      "\n"
     ]
    },
    {
     "ename": "ERROR",
     "evalue": "Error in eval(expr, envir, enclos): '...' used in an incorrect context\n",
     "output_type": "error",
     "traceback": [
      "Error in eval(expr, envir, enclos): '...' used in an incorrect context\nTraceback:\n"
     ]
    }
   ],
   "source": [
    "library(tidyverse)\n",
    "\n",
    "# Arjantin Datasi 'data/argentina.csv' dizinindedir, read_csv ile (read it in) \n",
    "argentina <- ...\n",
    "\n"
   ]
  },
  {
   "cell_type": "code",
   "execution_count": null,
   "id": "41d8c324",
   "metadata": {},
   "outputs": [],
   "source": [
    "# Kac satirdan (row) olusmaktadir?\n",
    "...\n",
    "\n"
   ]
  },
  {
   "cell_type": "code",
   "execution_count": null,
   "id": "ebf4db3d",
   "metadata": {},
   "outputs": [],
   "source": [
    "# Ilk 5 satir kodu yazdiriniz. \n",
    "..."
   ]
  },
  {
   "cell_type": "markdown",
   "id": "437ea7d1",
   "metadata": {},
   "source": [
    "### 2. En kalabalik ve ferah bolgeler\n",
    "\n",
    "Arjantinin nufusu bolgeler arasinda homojen dagilmamistir, Nufusun buyuk kismi 5 bolgede toplanmistir. \n",
    "\n",
    "En bilinen ekonomik gostergelerden birisi GSYHdir (Gayri Sarfi Yurtici Hasila) (GDP: Gross Domestic Product), ancak bu toplamdaki ekonomik degeri verir. Ornegin Hindistan GSYH bakimindan Luksemburgdan daha iyidir (nufus sayesinde). Toplumlarin ekonomik ferahini olcmekte kisi basina dusen GSYH (GDP per capita) daha anlamli bir deger ifade etmektedir (GSYH/nufus) \n"
   ]
  },
  {
   "cell_type": "code",
   "execution_count": null,
   "id": "66013002",
   "metadata": {},
   "outputs": [],
   "source": [
    "# gdp_per_capita sutununu dataframe'e ekleyelim\n",
    "argentina <- argentina %>% \n",
    "  ....(gdp_per_cap = .... / ....) \n"
   ]
  },
  {
   "cell_type": "code",
   "execution_count": null,
   "id": "ca822235",
   "metadata": {},
   "outputs": [],
   "source": [
    "# En zengin 4 bolgeyi bulunuz\n",
    "( rich_provinces  <- argentina %>% \n",
    "# ....\n",
    " "
   ]
  },
  {
   "cell_type": "code",
   "execution_count": null,
   "id": "2dab8a39",
   "metadata": {},
   "outputs": [],
   "source": [
    "# Nufusu 1 milyondan fazla olan 4 bolgeyi bulunuz\n",
    "( bigger_pops <- argentina %>% \n",
    "# ...."
   ]
  },
  {
   "cell_type": "markdown",
   "id": "73e0574a",
   "metadata": {},
   "source": [
    "### 3. Gorsellestirme\n",
    "\n",
    "Tercih ettiginiz bir veri gorsellestirme metodunu kullanarak (Ornegin: Bar plot/Box Plot/dot plot..vs )Nufus, zenginlik gibi degerleri cizdiriniz. Hangi plot cesidini neden kullandiginizi kisaca belirtiniz. "
   ]
  },
  {
   "cell_type": "code",
   "execution_count": null,
   "id": "1b1be2f9",
   "metadata": {},
   "outputs": [],
   "source": [
    "# Isterseniz ggplot kutuphanesini kullanabilirsiniz, ya da Base R plotting kutuphanesi de olabilir"
   ]
  },
  {
   "cell_type": "code",
   "execution_count": null,
   "id": "0e8d5926",
   "metadata": {},
   "outputs": [],
   "source": []
  }
 ],
 "metadata": {
  "kernelspec": {
   "display_name": "R",
   "language": "R",
   "name": "ir"
  },
  "language_info": {
   "codemirror_mode": "r",
   "file_extension": ".r",
   "mimetype": "text/x-r-source",
   "name": "R",
   "pygments_lexer": "r",
   "version": "4.1.3"
  }
 },
 "nbformat": 4,
 "nbformat_minor": 5
}
